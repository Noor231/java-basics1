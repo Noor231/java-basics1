{
 "cells": [
  {
   "cell_type": "code",
   "execution_count": 1,
   "metadata": {
    "colab": {
     "base_uri": "https://localhost:8080/"
    },
    "executionInfo": {
     "elapsed": 10920,
     "status": "ok",
     "timestamp": 1665418334409,
     "user": {
      "displayName": "Sing Harnoorpreet",
      "userId": "10845521360572890721"
     },
     "user_tz": -120
    },
    "id": "etaxjq9cqpUo",
    "outputId": "bb62b6f6-9d4c-4fe3-877f-70f5cabafe41"
   },
   "outputs": [
    {
     "name": "stdout",
     "output_type": "stream",
     "text": [
      "Ign:1 https://developer.download.nvidia.com/compute/machine-learning/repos/ubuntu1804/x86_64  InRelease\n",
      "Get:2 https://developer.download.nvidia.com/compute/cuda/repos/ubuntu1804/x86_64  InRelease [1,581 B]\n",
      "Get:3 https://cloud.r-project.org/bin/linux/ubuntu bionic-cran40/ InRelease [3,626 B]\n",
      "Hit:4 https://developer.download.nvidia.com/compute/machine-learning/repos/ubuntu1804/x86_64  Release\n",
      "Get:5 http://security.ubuntu.com/ubuntu bionic-security InRelease [88.7 kB]\n",
      "Get:6 https://developer.download.nvidia.com/compute/cuda/repos/ubuntu1804/x86_64  Packages [950 kB]\n",
      "Hit:7 http://archive.ubuntu.com/ubuntu bionic InRelease\n",
      "Get:8 http://archive.ubuntu.com/ubuntu bionic-updates InRelease [88.7 kB]\n",
      "Get:9 http://ppa.launchpad.net/c2d4u.team/c2d4u4.0+/ubuntu bionic InRelease [15.9 kB]\n",
      "Get:10 http://archive.ubuntu.com/ubuntu bionic-backports InRelease [83.3 kB]\n",
      "Hit:12 http://ppa.launchpad.net/cran/libgit2/ubuntu bionic InRelease\n",
      "Hit:13 http://ppa.launchpad.net/deadsnakes/ppa/ubuntu bionic InRelease\n",
      "Hit:14 http://ppa.launchpad.net/graphics-drivers/ppa/ubuntu bionic InRelease\n",
      "Get:15 http://security.ubuntu.com/ubuntu bionic-security/universe amd64 Packages [1,550 kB]\n",
      "Get:16 http://archive.ubuntu.com/ubuntu bionic-updates/universe amd64 Packages [2,328 kB]\n",
      "Get:17 http://security.ubuntu.com/ubuntu bionic-security/main amd64 Packages [3,005 kB]\n",
      "Get:18 http://security.ubuntu.com/ubuntu bionic-security/restricted amd64 Packages [1,183 kB]\n",
      "Get:19 http://archive.ubuntu.com/ubuntu bionic-updates/main amd64 Packages [3,436 kB]\n",
      "Get:20 http://ppa.launchpad.net/c2d4u.team/c2d4u4.0+/ubuntu bionic/main Sources [2,164 kB]\n",
      "Get:21 http://archive.ubuntu.com/ubuntu bionic-updates/restricted amd64 Packages [1,223 kB]\n",
      "Get:22 http://ppa.launchpad.net/c2d4u.team/c2d4u4.0+/ubuntu bionic/main amd64 Packages [1,109 kB]\n",
      "Fetched 17.2 MB in 4s (3,993 kB/s)\n",
      "Reading package lists...\n",
      "Building dependency tree...\n",
      "Reading state information...\n",
      "22 packages can be upgraded. Run 'apt list --upgradable' to see them.\n",
      "Reading package lists...\n",
      "Building dependency tree...\n",
      "Reading state information...\n",
      "openjdk-11-jdk-headless is already the newest version (11.0.16+8-0ubuntu1~18.04).\n",
      "The following package was automatically installed and is no longer required:\n",
      "  libnvidia-common-460\n",
      "Use 'apt autoremove' to remove it.\n",
      "0 upgraded, 0 newly installed, 0 to remove and 22 not upgraded.\n",
      "  % Total    % Received % Xferd  Average Speed   Time    Time     Time  Current\n",
      "                                 Dload  Upload   Total   Spent    Left  Speed\n",
      "  0     0    0     0    0     0      0      0 --:--:-- --:--:-- --:--:--     0\n",
      "100 3287k  100 3287k    0     0  5797k      0 --:--:-- --:--:-- --:--:-- 5797k\n",
      "install.py:169: DeprecationWarning: replace is ignored. Installing a kernelspec always replaces an existing installation\n",
      "  replace=args.replace\n",
      "Installed java kernel into \"/usr/share/jupyter/kernels/java\"\n",
      "Available kernels:\n",
      "  ir         /usr/local/share/jupyter/kernels/ir\n",
      "  python3    /usr/local/share/jupyter/kernels/python3\n",
      "  java       /usr/share/jupyter/kernels/java\n"
     ]
    }
   ],
   "source": [
    "#@title\n",
    "!apt update -q\n",
    "!apt-get install -q openjdk-11-jdk-headless\n",
    "!curl -L https://github.com/SpencerPark/IJava/releases/download/v1.3.0/ijava-1.3.0.zip -o ijava-kernel.zip\n",
    "!unzip -q ijava-kernel.zip -d ijava-kernel && cd ijava-kernel && python3 install.py --sys-prefix\n",
    "!jupyter kernelspec list"
   ]
  },
  {
   "cell_type": "code",
   "execution_count": null,
   "metadata": {
    "id": "E1HzAWNSq6oq"
   },
   "outputs": [],
   "source": [
    "String printBinary(String binary, int blockSize, String separator) {\n",
    "        List<String> result = new ArrayList<>();\n",
    "        int index = 0;\n",
    "        while (index < binary.length()) {\n",
    "            result.add(binary.substring(index, Math.min(index + blockSize, binary.length())));\n",
    "            index += blockSize;\n",
    "        }\n",
    "\n",
    "        return result.stream().collect(java.util.stream.Collectors.joining(separator));\n",
    "    }\n",
    "void intToBin(int input){\n",
    "    String result = Integer.toBinaryString(input);\n",
    "    String resultWithPadding = String.format(\"%32s\", result).replaceAll(\" \", \"0\");\n",
    "    System.out.println(printBinary(resultWithPadding, 4, \" \")); \n",
    "}"
   ]
  },
  {
   "cell_type": "markdown",
   "metadata": {
    "id": "Xc1-lDXNq2dd"
   },
   "source": [
    "Actividades"
   ]
  },
  {
   "cell_type": "code",
   "execution_count": null,
   "metadata": {},
   "outputs": [],
   "source": [
    "// Pregunta 1\n",
    "long b0 = 122; long b1 = 1;//123\n",
    "int r = (int)(b0 + b1);\n",
    "System.out.println(r)"
   ]
  },
  {
   "cell_type": "code",
   "execution_count": null,
   "metadata": {},
   "outputs": [],
   "source": [
    "// Pregunta 2 y 3\n",
    "char c = 'a';\n",
    "//Respuesta \"a\" porque hemos puesto que c es igual a \"a\"\n",
    "\n",
    "int n = c;\n",
    "//Repuesta es 97, en tabla ASCII  97 es igual a 'a'\n",
    "\n",
    "short s = (short)c;\n",
    "// no podemos poner sin convirtirle en short\n",
    "// Hemos forcado que \"c\" sea un short\n",
    "\n",
    "System.out.println(c);\n",
    "System.out.println(n);\n",
    "System.out.println(s);"
   ]
  },
  {
   "cell_type": "code",
   "execution_count": null,
   "metadata": {},
   "outputs": [],
   "source": [
    "//Pregunta 4\n",
    "short s = (short)32000;\n",
    "System.out.println(s);\n",
    "//short tiene el limite de minimo de -32,768 y maximo de  32,767\n",
    "short s = (short)35000;\n",
    "System.out.println(s);"
   ]
  },
  {
   "cell_type": "code",
   "execution_count": null,
   "metadata": {},
   "outputs": [],
   "source": [
    "//Pregunta 5\n",
    "var v = 5.0; //es un double \n",
    "var v0 = 5; //es un int\n",
    "System.out.println(v);\n",
    "System.out.println(v0);"
   ]
  },
  {
   "cell_type": "code",
   "execution_count": null,
   "metadata": {},
   "outputs": [],
   "source": [
    "//Pregunta 8\n",
    "char c = 'a', c1 = 1 ; //estamos sumando un char coon un int\n",
    "//char c2 = (c + c1) ;\n",
    "char c2 = (c += c1) ; // usamos el funcion +=\n",
    "\n",
    "System.out.println(c2);"
   ]
  },
  {
   "cell_type": "code",
   "execution_count": null,
   "metadata": {},
   "outputs": [],
   "source": [
    "//pregunta 9\n",
    "var h = 4 * 4f + (4.0 + 4); //es un double\n",
    "//float f = h; estamso asignando un double a un float\n",
    "float f = (float)h; //forcamos k se convierte en un float\n",
    "System.out.println(h);"
   ]
  },
  {
   "cell_type": "code",
   "execution_count": 2,
   "metadata": {},
   "outputs": [
    {
     "name": "stdout",
     "output_type": "stream",
     "text": [
      "true\n",
      "false\n"
     ]
    }
   ],
   "source": [
    "//Pregunta 10\n",
    "byte b0 = 4, b1 = -4, b2 = 12; \n",
    "boolean bol1 = b0 == b2 / 3;\n",
    "//boolean bol2 = b0 + b1; // da error porque no estamos usando condiciones >, <, <= , >= o ==\n",
    "\n",
    "boolean bol3 = b0 + b1 > b2;\n",
    "\n",
    "System.out.println(bol1);\n",
    "//System.out.println(bol2);\n",
    "System.out.println(bol3);"
   ]
  },
  {
   "cell_type": "code",
   "execution_count": null,
   "metadata": {},
   "outputs": [],
   "source": []
  }
 ],
 "metadata": {
  "colab": {
   "authorship_tag": "ABX9TyOMT26pqIICg/xbPiG4J9o2",
   "provenance": []
  },
  "kernelspec": {
   "display_name": "Java 17",
   "language": "java",
   "name": "java"
  },
  "language_info": {
   "codemirror_mode": "java",
   "file_extension": ".jshell",
   "mimetype": "text/x-java-source",
   "name": "Java",
   "pygments_lexer": "java",
   "version": "17.0.4+8-LTS"
  }
 },
 "nbformat": 4,
 "nbformat_minor": 4
}
