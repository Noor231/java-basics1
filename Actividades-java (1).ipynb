{
 "cells": [
  {
   "cell_type": "markdown",
   "metadata": {
    "id": "Xc1-lDXNq2dd"
   },
   "source": [
    "Actividades"
   ]
  },
  {
   "cell_type": "code",
   "execution_count": 3,
   "metadata": {},
   "outputs": [
    {
     "name": "stdout",
     "output_type": "stream",
     "text": [
      "123\n"
     ]
    }
   ],
   "source": [
    "// Pregunta 1\n",
    "long b0 = 122; long b1 = 1;//123\n",
    "int r = (int)(b0 + b1);\n",
    "System.out.println(r)"
   ]
  },
  {
   "cell_type": "code",
   "execution_count": null,
   "metadata": {},
   "outputs": [],
   "source": [
    "// Pregunta 2 y 3\n",
    "char c = 'a';\n",
    "//Respuesta \"a\" porque hemos puesto que c es igual a \"a\"\n",
    "\n",
    "int n = c;\n",
    "//Repuesta es 97, en tabla ASCII  97 es igual a 'a'\n",
    "\n",
    "short s = (short)c;\n",
    "// no podemos poner sin convirtirle en short\n",
    "// Hemos forcado que \"c\" sea un short\n",
    "\n",
    "System.out.println(c);\n",
    "System.out.println(n);\n",
    "System.out.println(s);"
   ]
  },
  {
   "cell_type": "code",
   "execution_count": null,
   "metadata": {},
   "outputs": [],
   "source": [
    "//Pregunta 4\n",
    "short s = (short)32000;\n",
    "System.out.println(s);\n",
    "//short tiene el limite de minimo de -32,768 y maximo de  32,767\n",
    "short s = (short)35000;\n",
    "System.out.println(s);"
   ]
  },
  {
   "cell_type": "code",
   "execution_count": null,
   "metadata": {},
   "outputs": [],
   "source": [
    "//Pregunta 5\n",
    "var v = 5.0; //es un double \n",
    "var v0 = 5; //es un int\n",
    "System.out.println(v);\n",
    "System.out.println(v0);"
   ]
  },
  {
   "cell_type": "code",
   "execution_count": null,
   "metadata": {},
   "outputs": [],
   "source": [
    "//Pregunta 8\n",
    "char c = 'a', c1 = 1 ; //estamos sumando un char coon un int\n",
    "//char c2 = (c + c1) ;\n",
    "char c2 = (c += c1) ; // usamos el funcion +=\n",
    "\n",
    "System.out.println(c2);"
   ]
  },
  {
   "cell_type": "code",
   "execution_count": null,
   "metadata": {},
   "outputs": [],
   "source": [
    "//pregunta 9\n",
    "var h = 4 * 4f + (4.0 + 4); //es un double\n",
    "//float f = h; estamso asignando un double a un float\n",
    "float f = (float)h; //forcamos k se convierte en un float\n",
    "System.out.println(h);"
   ]
  },
  {
   "cell_type": "code",
   "execution_count": 2,
   "metadata": {},
   "outputs": [
    {
     "name": "stdout",
     "output_type": "stream",
     "text": [
      "true\n",
      "false\n"
     ]
    }
   ],
   "source": [
    "//Pregunta 10\n",
    "byte b0 = 4, b1 = -4, b2 = 12; \n",
    "boolean bol1 = b0 == b2 / 3;\n",
    "//boolean bol2 = b0 + b1; // da error porque no estamos usando condiciones >, <, <= , >= o ==\n",
    "\n",
    "boolean bol3 = b0 + b1 > b2;\n",
    "\n",
    "System.out.println(bol1);\n",
    "//System.out.println(bol2);\n",
    "System.out.println(bol3);"
   ]
  },
  {
   "cell_type": "code",
   "execution_count": null,
   "metadata": {},
   "outputs": [],
   "source": []
  }
 ],
 "metadata": {
  "colab": {
   "authorship_tag": "ABX9TyOMT26pqIICg/xbPiG4J9o2",
   "provenance": []
  },
  "kernelspec": {
   "display_name": "Java 17",
   "language": "java",
   "name": "java"
  },
  "language_info": {
   "codemirror_mode": "java",
   "file_extension": ".jshell",
   "mimetype": "text/x-java-source",
   "name": "Java",
   "pygments_lexer": "java",
   "version": "17.0.4+8-LTS"
  }
 },
 "nbformat": 4,
 "nbformat_minor": 4
}
